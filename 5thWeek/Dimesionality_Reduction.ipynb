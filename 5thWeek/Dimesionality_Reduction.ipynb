{
  "nbformat": 4,
  "nbformat_minor": 0,
  "metadata": {
    "colab": {
      "provenance": [],
      "authorship_tag": "ABX9TyN5IKV5XOxDU1O1aip+myD0",
      "include_colab_link": true
    },
    "kernelspec": {
      "name": "python3",
      "display_name": "Python 3"
    },
    "language_info": {
      "name": "python"
    }
  },
  "cells": [
    {
      "cell_type": "markdown",
      "metadata": {
        "id": "view-in-github",
        "colab_type": "text"
      },
      "source": [
        "<a href=\"https://colab.research.google.com/github/amirularsyad/MachineLearningCourse_HW_TelU/blob/main/5thWeek/Dimesionality_Reduction.ipynb\" target=\"_parent\"><img src=\"https://colab.research.google.com/assets/colab-badge.svg\" alt=\"Open In Colab\"/></a>"
      ]
    },
    {
      "cell_type": "markdown",
      "source": [
        "Training Iris Classification Using Decision Tree without Dimensionality Reduction"
      ],
      "metadata": {
        "id": "j7spHdu4mD_h"
      }
    },
    {
      "cell_type": "code",
      "execution_count": 1,
      "metadata": {
        "id": "R9Mh3wfyiAZE"
      },
      "outputs": [],
      "source": [
        "from sklearn import datasets\n",
        "from sklearn.model_selection import train_test_split\n",
        "iris = datasets.load_iris()"
      ]
    },
    {
      "cell_type": "code",
      "source": [
        "atribut = iris.data\n",
        "label = iris.target"
      ],
      "metadata": {
        "id": "rEgrK4nIjwYU"
      },
      "execution_count": 2,
      "outputs": []
    },
    {
      "cell_type": "code",
      "source": [
        "#Melihat jumlah baris dalam dataset iris\n",
        "jumlah_baris = len (atribut)\n",
        "print (\"jumlah baris dalam dataset iris\", jumlah_baris)\n"
      ],
      "metadata": {
        "colab": {
          "base_uri": "https://localhost:8080/"
        },
        "id": "ocrA_DVrjxtj",
        "outputId": "b8a414f7-b7a9-4c71-e6eb-8f3f4b1f5a2f"
      },
      "execution_count": 3,
      "outputs": [
        {
          "output_type": "stream",
          "name": "stdout",
          "text": [
            "jumlah baris dalam dataset iris 150\n"
          ]
        }
      ]
    },
    {
      "cell_type": "code",
      "source": [
        "# bagi dataset menjadi train set dan test set\n",
        "X_train, X_test, y_train, y_test = train_test_split(\n",
        "    atribut, label, random_state= 42, test_size=0.2)"
      ],
      "metadata": {
        "id": "IGXv8J_tkUJw"
      },
      "execution_count": 9,
      "outputs": []
    },
    {
      "cell_type": "code",
      "source": [
        "from sklearn import tree\n",
        "\n",
        "decision_tree = tree.DecisionTreeClassifier()\n",
        "model_tanpa_dimensionality_reduction = decision_tree.fit(X_train, y_train)\n",
        "model_tanpa_dimensionality_reduction.score (X_test, y_test)\n",
        ""
      ],
      "metadata": {
        "colab": {
          "base_uri": "https://localhost:8080/"
        },
        "id": "ma4C_1Hzk3yl",
        "outputId": "f0ecb03f-1f4b-4d8a-dcb9-8baebe3fc7bc"
      },
      "execution_count": 10,
      "outputs": [
        {
          "output_type": "execute_result",
          "data": {
            "text/plain": [
              "1.0"
            ]
          },
          "metadata": {},
          "execution_count": 10
        }
      ]
    },
    {
      "cell_type": "markdown",
      "source": [
        "Training Iris Classification Using Decision Tree with Dimensionality Reduction"
      ],
      "metadata": {
        "id": "fOjWyGvxlvqU"
      }
    },
    {
      "cell_type": "code",
      "source": [
        "from sklearn.decomposition import PCA\n",
        "\n",
        "#membuat 4 principal component\n",
        "pca = PCA (n_components = 4)\n",
        "\n",
        "pca_attributes = pca.fit_transform(X_train)\n",
        "\n",
        "pca.explained_variance_ratio_"
      ],
      "metadata": {
        "colab": {
          "base_uri": "https://localhost:8080/"
        },
        "id": "XvB4Bzvsl-Et",
        "outputId": "4ec0ca4b-5637-4b3f-a088-23760d690f2e"
      },
      "execution_count": 11,
      "outputs": [
        {
          "output_type": "execute_result",
          "data": {
            "text/plain": [
              "array([0.91959926, 0.05714377, 0.01838378, 0.00487319])"
            ]
          },
          "metadata": {},
          "execution_count": 11
        }
      ]
    },
    {
      "cell_type": "code",
      "source": [
        "pca = PCA(n_components = 2)\n",
        "X_train_pca = pca.fit_transform(X_train)\n",
        "\n",
        "X_test_pca = pca.fit_transform (X_test)"
      ],
      "metadata": {
        "id": "lMNL2NrSmpyH"
      },
      "execution_count": 12,
      "outputs": []
    },
    {
      "cell_type": "code",
      "source": [
        "model_dengan_PCA_2_components = decision_tree.fit(X_train_pca, y_train)\n",
        "model_dengan_PCA_2_components.score(X_test_pca, y_test)"
      ],
      "metadata": {
        "colab": {
          "base_uri": "https://localhost:8080/"
        },
        "id": "4cSBA7Kgm-_B",
        "outputId": "633775b2-4d4f-432f-bd38-19e19e2c9451"
      },
      "execution_count": 13,
      "outputs": [
        {
          "output_type": "execute_result",
          "data": {
            "text/plain": [
              "0.9333333333333333"
            ]
          },
          "metadata": {},
          "execution_count": 13
        }
      ]
    }
  ]
}